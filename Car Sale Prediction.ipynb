{
 "cells": [
  {
   "cell_type": "markdown",
   "metadata": {},
   "source": [
    "# Classified Ads for Cars"
   ]
  },
  {
   "cell_type": "markdown",
   "metadata": {},
   "source": [
    "## Data Description "
   ]
  },
  {
   "cell_type": "markdown",
   "metadata": {},
   "source": [
    "### Link to the dataset : https://www.kaggle.com/mirosval/personal-cars-classifieds"
   ]
  },
  {
   "cell_type": "markdown",
   "metadata": {},
   "source": [
    "## Importing the libraries"
   ]
  },
  {
   "cell_type": "code",
   "execution_count": 1,
   "metadata": {},
   "outputs": [],
   "source": [
    "import numpy as np\n",
    "import pandas as pd\n",
    "import matplotlib.pyplot as plt"
   ]
  },
  {
   "cell_type": "markdown",
   "metadata": {},
   "source": [
    "# Data Exploration and Cleaning"
   ]
  },
  {
   "cell_type": "code",
   "execution_count": 2,
   "metadata": {},
   "outputs": [
    {
     "name": "stderr",
     "output_type": "stream",
     "text": [
      "C:\\Users\\adamb\\AppData\\Local\\Continuum\\anaconda3\\lib\\site-packages\\IPython\\core\\interactiveshell.py:3057: DtypeWarning: Columns (7,8,10,11,12) have mixed types. Specify dtype option on import or set low_memory=False.\n",
      "  interactivity=interactivity, compiler=compiler, result=result)\n"
     ]
    }
   ],
   "source": [
    "carData = pd.read_csv(\"all_anonymized_2015_11_2017_03.csv\")"
   ]
  },
  {
   "cell_type": "code",
   "execution_count": 3,
   "metadata": {},
   "outputs": [
    {
     "data": {
      "text/html": [
       "<div>\n",
       "<style scoped>\n",
       "    .dataframe tbody tr th:only-of-type {\n",
       "        vertical-align: middle;\n",
       "    }\n",
       "\n",
       "    .dataframe tbody tr th {\n",
       "        vertical-align: top;\n",
       "    }\n",
       "\n",
       "    .dataframe thead th {\n",
       "        text-align: right;\n",
       "    }\n",
       "</style>\n",
       "<table border=\"1\" class=\"dataframe\">\n",
       "  <thead>\n",
       "    <tr style=\"text-align: right;\">\n",
       "      <th></th>\n",
       "      <th>maker</th>\n",
       "      <th>model</th>\n",
       "      <th>mileage</th>\n",
       "      <th>manufacture_year</th>\n",
       "      <th>engine_displacement</th>\n",
       "      <th>engine_power</th>\n",
       "      <th>body_type</th>\n",
       "      <th>color_slug</th>\n",
       "      <th>stk_year</th>\n",
       "      <th>transmission</th>\n",
       "      <th>door_count</th>\n",
       "      <th>seat_count</th>\n",
       "      <th>fuel_type</th>\n",
       "      <th>date_created</th>\n",
       "      <th>date_last_seen</th>\n",
       "      <th>price_eur</th>\n",
       "    </tr>\n",
       "  </thead>\n",
       "  <tbody>\n",
       "    <tr>\n",
       "      <th>0</th>\n",
       "      <td>ford</td>\n",
       "      <td>galaxy</td>\n",
       "      <td>151000.0</td>\n",
       "      <td>2011.0</td>\n",
       "      <td>2000.0</td>\n",
       "      <td>103.0</td>\n",
       "      <td>NaN</td>\n",
       "      <td>NaN</td>\n",
       "      <td>None</td>\n",
       "      <td>man</td>\n",
       "      <td>5</td>\n",
       "      <td>7</td>\n",
       "      <td>diesel</td>\n",
       "      <td>2015-11-14 18:10:06.838319+00</td>\n",
       "      <td>2016-01-27 20:40:15.46361+00</td>\n",
       "      <td>10584.75</td>\n",
       "    </tr>\n",
       "    <tr>\n",
       "      <th>1</th>\n",
       "      <td>skoda</td>\n",
       "      <td>octavia</td>\n",
       "      <td>143476.0</td>\n",
       "      <td>2012.0</td>\n",
       "      <td>2000.0</td>\n",
       "      <td>81.0</td>\n",
       "      <td>NaN</td>\n",
       "      <td>NaN</td>\n",
       "      <td>None</td>\n",
       "      <td>man</td>\n",
       "      <td>5</td>\n",
       "      <td>5</td>\n",
       "      <td>diesel</td>\n",
       "      <td>2015-11-14 18:10:06.853411+00</td>\n",
       "      <td>2016-01-27 20:40:15.46361+00</td>\n",
       "      <td>8882.31</td>\n",
       "    </tr>\n",
       "    <tr>\n",
       "      <th>2</th>\n",
       "      <td>bmw</td>\n",
       "      <td>NaN</td>\n",
       "      <td>97676.0</td>\n",
       "      <td>2010.0</td>\n",
       "      <td>1995.0</td>\n",
       "      <td>85.0</td>\n",
       "      <td>NaN</td>\n",
       "      <td>NaN</td>\n",
       "      <td>None</td>\n",
       "      <td>man</td>\n",
       "      <td>5</td>\n",
       "      <td>5</td>\n",
       "      <td>diesel</td>\n",
       "      <td>2015-11-14 18:10:06.861792+00</td>\n",
       "      <td>2016-01-27 20:40:15.46361+00</td>\n",
       "      <td>12065.06</td>\n",
       "    </tr>\n",
       "    <tr>\n",
       "      <th>3</th>\n",
       "      <td>skoda</td>\n",
       "      <td>fabia</td>\n",
       "      <td>111970.0</td>\n",
       "      <td>2004.0</td>\n",
       "      <td>1200.0</td>\n",
       "      <td>47.0</td>\n",
       "      <td>NaN</td>\n",
       "      <td>NaN</td>\n",
       "      <td>None</td>\n",
       "      <td>man</td>\n",
       "      <td>5</td>\n",
       "      <td>5</td>\n",
       "      <td>gasoline</td>\n",
       "      <td>2015-11-14 18:10:06.872313+00</td>\n",
       "      <td>2016-01-27 20:40:15.46361+00</td>\n",
       "      <td>2960.77</td>\n",
       "    </tr>\n",
       "    <tr>\n",
       "      <th>4</th>\n",
       "      <td>skoda</td>\n",
       "      <td>fabia</td>\n",
       "      <td>128886.0</td>\n",
       "      <td>2004.0</td>\n",
       "      <td>1200.0</td>\n",
       "      <td>47.0</td>\n",
       "      <td>NaN</td>\n",
       "      <td>NaN</td>\n",
       "      <td>None</td>\n",
       "      <td>man</td>\n",
       "      <td>5</td>\n",
       "      <td>5</td>\n",
       "      <td>gasoline</td>\n",
       "      <td>2015-11-14 18:10:06.880335+00</td>\n",
       "      <td>2016-01-27 20:40:15.46361+00</td>\n",
       "      <td>2738.71</td>\n",
       "    </tr>\n",
       "    <tr>\n",
       "      <th>5</th>\n",
       "      <td>skoda</td>\n",
       "      <td>fabia</td>\n",
       "      <td>140932.0</td>\n",
       "      <td>2003.0</td>\n",
       "      <td>1200.0</td>\n",
       "      <td>40.0</td>\n",
       "      <td>NaN</td>\n",
       "      <td>NaN</td>\n",
       "      <td>None</td>\n",
       "      <td>man</td>\n",
       "      <td>5</td>\n",
       "      <td>5</td>\n",
       "      <td>gasoline</td>\n",
       "      <td>2015-11-14 18:10:06.894643+00</td>\n",
       "      <td>2016-01-27 20:40:15.46361+00</td>\n",
       "      <td>1628.42</td>\n",
       "    </tr>\n",
       "    <tr>\n",
       "      <th>6</th>\n",
       "      <td>skoda</td>\n",
       "      <td>fabia</td>\n",
       "      <td>167220.0</td>\n",
       "      <td>2001.0</td>\n",
       "      <td>1400.0</td>\n",
       "      <td>74.0</td>\n",
       "      <td>NaN</td>\n",
       "      <td>NaN</td>\n",
       "      <td>None</td>\n",
       "      <td>man</td>\n",
       "      <td>5</td>\n",
       "      <td>5</td>\n",
       "      <td>gasoline</td>\n",
       "      <td>2015-11-14 18:10:06.915376+00</td>\n",
       "      <td>2016-01-27 20:40:15.46361+00</td>\n",
       "      <td>2072.54</td>\n",
       "    </tr>\n",
       "    <tr>\n",
       "      <th>7</th>\n",
       "      <td>bmw</td>\n",
       "      <td>NaN</td>\n",
       "      <td>148500.0</td>\n",
       "      <td>2009.0</td>\n",
       "      <td>2000.0</td>\n",
       "      <td>130.0</td>\n",
       "      <td>NaN</td>\n",
       "      <td>NaN</td>\n",
       "      <td>None</td>\n",
       "      <td>auto</td>\n",
       "      <td>5</td>\n",
       "      <td>5</td>\n",
       "      <td>diesel</td>\n",
       "      <td>2015-11-14 18:10:06.924123+00</td>\n",
       "      <td>2016-01-27 20:40:15.46361+00</td>\n",
       "      <td>10547.74</td>\n",
       "    </tr>\n",
       "    <tr>\n",
       "      <th>8</th>\n",
       "      <td>skoda</td>\n",
       "      <td>octavia</td>\n",
       "      <td>105389.0</td>\n",
       "      <td>2003.0</td>\n",
       "      <td>1900.0</td>\n",
       "      <td>81.0</td>\n",
       "      <td>NaN</td>\n",
       "      <td>NaN</td>\n",
       "      <td>None</td>\n",
       "      <td>man</td>\n",
       "      <td>5</td>\n",
       "      <td>5</td>\n",
       "      <td>diesel</td>\n",
       "      <td>2015-11-14 18:10:06.936239+00</td>\n",
       "      <td>2016-01-27 20:40:15.46361+00</td>\n",
       "      <td>4293.12</td>\n",
       "    </tr>\n",
       "    <tr>\n",
       "      <th>9</th>\n",
       "      <td>NaN</td>\n",
       "      <td>NaN</td>\n",
       "      <td>301381.0</td>\n",
       "      <td>2002.0</td>\n",
       "      <td>1900.0</td>\n",
       "      <td>88.0</td>\n",
       "      <td>NaN</td>\n",
       "      <td>NaN</td>\n",
       "      <td>None</td>\n",
       "      <td>man</td>\n",
       "      <td>5</td>\n",
       "      <td>5</td>\n",
       "      <td>diesel</td>\n",
       "      <td>2015-11-14 18:10:06.954319+00</td>\n",
       "      <td>2016-01-27 20:40:15.46361+00</td>\n",
       "      <td>1332.35</td>\n",
       "    </tr>\n",
       "  </tbody>\n",
       "</table>\n",
       "</div>"
      ],
      "text/plain": [
       "   maker    model   mileage  manufacture_year  engine_displacement  \\\n",
       "0   ford   galaxy  151000.0            2011.0               2000.0   \n",
       "1  skoda  octavia  143476.0            2012.0               2000.0   \n",
       "2    bmw      NaN   97676.0            2010.0               1995.0   \n",
       "3  skoda    fabia  111970.0            2004.0               1200.0   \n",
       "4  skoda    fabia  128886.0            2004.0               1200.0   \n",
       "5  skoda    fabia  140932.0            2003.0               1200.0   \n",
       "6  skoda    fabia  167220.0            2001.0               1400.0   \n",
       "7    bmw      NaN  148500.0            2009.0               2000.0   \n",
       "8  skoda  octavia  105389.0            2003.0               1900.0   \n",
       "9    NaN      NaN  301381.0            2002.0               1900.0   \n",
       "\n",
       "   engine_power body_type color_slug stk_year transmission door_count  \\\n",
       "0         103.0       NaN        NaN     None          man          5   \n",
       "1          81.0       NaN        NaN     None          man          5   \n",
       "2          85.0       NaN        NaN     None          man          5   \n",
       "3          47.0       NaN        NaN     None          man          5   \n",
       "4          47.0       NaN        NaN     None          man          5   \n",
       "5          40.0       NaN        NaN     None          man          5   \n",
       "6          74.0       NaN        NaN     None          man          5   \n",
       "7         130.0       NaN        NaN     None         auto          5   \n",
       "8          81.0       NaN        NaN     None          man          5   \n",
       "9          88.0       NaN        NaN     None          man          5   \n",
       "\n",
       "  seat_count fuel_type                   date_created  \\\n",
       "0          7    diesel  2015-11-14 18:10:06.838319+00   \n",
       "1          5    diesel  2015-11-14 18:10:06.853411+00   \n",
       "2          5    diesel  2015-11-14 18:10:06.861792+00   \n",
       "3          5  gasoline  2015-11-14 18:10:06.872313+00   \n",
       "4          5  gasoline  2015-11-14 18:10:06.880335+00   \n",
       "5          5  gasoline  2015-11-14 18:10:06.894643+00   \n",
       "6          5  gasoline  2015-11-14 18:10:06.915376+00   \n",
       "7          5    diesel  2015-11-14 18:10:06.924123+00   \n",
       "8          5    diesel  2015-11-14 18:10:06.936239+00   \n",
       "9          5    diesel  2015-11-14 18:10:06.954319+00   \n",
       "\n",
       "                 date_last_seen  price_eur  \n",
       "0  2016-01-27 20:40:15.46361+00   10584.75  \n",
       "1  2016-01-27 20:40:15.46361+00    8882.31  \n",
       "2  2016-01-27 20:40:15.46361+00   12065.06  \n",
       "3  2016-01-27 20:40:15.46361+00    2960.77  \n",
       "4  2016-01-27 20:40:15.46361+00    2738.71  \n",
       "5  2016-01-27 20:40:15.46361+00    1628.42  \n",
       "6  2016-01-27 20:40:15.46361+00    2072.54  \n",
       "7  2016-01-27 20:40:15.46361+00   10547.74  \n",
       "8  2016-01-27 20:40:15.46361+00    4293.12  \n",
       "9  2016-01-27 20:40:15.46361+00    1332.35  "
      ]
     },
     "execution_count": 3,
     "metadata": {},
     "output_type": "execute_result"
    }
   ],
   "source": [
    "carData.head(10)"
   ]
  },
  {
   "cell_type": "code",
   "execution_count": 4,
   "metadata": {},
   "outputs": [
    {
     "data": {
      "text/plain": [
       "maker                   518915\n",
       "model                  1133361\n",
       "mileage                 362584\n",
       "manufacture_year        370578\n",
       "engine_displacement     743414\n",
       "engine_power            554877\n",
       "body_type              1122914\n",
       "color_slug             3343411\n",
       "stk_year               1708156\n",
       "transmission            741630\n",
       "door_count              614373\n",
       "seat_count              749489\n",
       "fuel_type              1847606\n",
       "date_created                 0\n",
       "date_last_seen               0\n",
       "price_eur                    0\n",
       "dtype: int64"
      ]
     },
     "execution_count": 4,
     "metadata": {},
     "output_type": "execute_result"
    }
   ],
   "source": [
    "carData.isnull().sum()"
   ]
  },
  {
   "cell_type": "code",
   "execution_count": 5,
   "metadata": {},
   "outputs": [],
   "source": [
    "carData = carData.drop(columns =['model','color_slug', 'stk_year'])"
   ]
  },
  {
   "cell_type": "code",
   "execution_count": 6,
   "metadata": {},
   "outputs": [],
   "source": [
    "carData['date_created'] = carData['date_created'].str.slice(0, 10)\n",
    "carData['date_last_seen'] = carData['date_last_seen'].str.slice(0, 10)"
   ]
  },
  {
   "cell_type": "code",
   "execution_count": 7,
   "metadata": {},
   "outputs": [],
   "source": [
    "carData = carData[carData['body_type'].notna()]\n",
    "carData = carData[carData['fuel_type'].notna()]"
   ]
  },
  {
   "cell_type": "code",
   "execution_count": 8,
   "metadata": {},
   "outputs": [
    {
     "data": {
      "text/plain": [
       "compact         241948\n",
       "other           122159\n",
       "coupe            68738\n",
       "stationwagon     68092\n",
       "van              30728\n",
       "offroad          21835\n",
       "sedan            19149\n",
       "convertible       5303\n",
       "transporter       4440\n",
       "Name: body_type, dtype: int64"
      ]
     },
     "execution_count": 8,
     "metadata": {},
     "output_type": "execute_result"
    }
   ],
   "source": [
    "carData['body_type'].value_counts()"
   ]
  },
  {
   "cell_type": "code",
   "execution_count": 9,
   "metadata": {},
   "outputs": [
    {
     "data": {
      "text/plain": [
       "None     237765\n",
       "5.0      160410\n",
       "5         13172\n",
       "0.0       11322\n",
       "7.0        9805\n",
       "4.0        9043\n",
       "4          6372\n",
       "3.0        4346\n",
       "2.0        3841\n",
       "2          2869\n",
       "7          2467\n",
       "3          1729\n",
       "9.0        1721\n",
       "6.0        1517\n",
       "8.0         886\n",
       "6           462\n",
       "9           380\n",
       "1.0         190\n",
       "8           156\n",
       "1            11\n",
       "21.0          9\n",
       "14.0          5\n",
       "50.0          5\n",
       "51.0          4\n",
       "18.0          4\n",
       "57            4\n",
       "52.0          3\n",
       "29.0          3\n",
       "81.0          3\n",
       "15.0          3\n",
       "16.0          3\n",
       "17.0          3\n",
       "33.0          2\n",
       "49.0          2\n",
       "17            2\n",
       "512.0         2\n",
       "53.0          2\n",
       "58.0          2\n",
       "13.0          2\n",
       "32.0          2\n",
       "44.0          2\n",
       "57.0          2\n",
       "55.0          2\n",
       "36.0          2\n",
       "43.0          1\n",
       "19.0          1\n",
       "54.0          1\n",
       "10.0          1\n",
       "23.0          1\n",
       "59.0          1\n",
       "25.0          1\n",
       "85.0          1\n",
       "138.0         1\n",
       "515.0         1\n",
       "517.0         1\n",
       "30.0          1\n",
       "45.0          1\n",
       "Name: seat_count, dtype: int64"
      ]
     },
     "execution_count": 9,
     "metadata": {},
     "output_type": "execute_result"
    }
   ],
   "source": [
    "carData['seat_count'].value_counts()"
   ]
  },
  {
   "cell_type": "code",
   "execution_count": 10,
   "metadata": {},
   "outputs": [
    {
     "data": {
      "text/plain": [
       "None    233523\n",
       "5.0     160334\n",
       "4.0      17846\n",
       "5        13231\n",
       "3.0       9338\n",
       "0.0       7668\n",
       "2         7290\n",
       "4         7053\n",
       "3         4242\n",
       "2.0       3839\n",
       "6.0        229\n",
       "1.0         89\n",
       "6           41\n",
       "7.0         15\n",
       "55.0         9\n",
       "1            8\n",
       "58.0         2\n",
       "9.0          2\n",
       "8.0          2\n",
       "49.0         1\n",
       "45.0         1\n",
       "17.0         1\n",
       "7            1\n",
       "22.0         1\n",
       "Name: door_count, dtype: int64"
      ]
     },
     "execution_count": 10,
     "metadata": {},
     "output_type": "execute_result"
    }
   ],
   "source": [
    "carData['door_count'].value_counts()"
   ]
  },
  {
   "cell_type": "code",
   "execution_count": 11,
   "metadata": {},
   "outputs": [],
   "source": [
    "#drop all the None values\n",
    "carData = carData[carData['seat_count'] != 'None']\n",
    "carData = carData[carData['door_count'] != 'None']\n",
    "\n",
    "#convert everything to numeric\n",
    "carData[['seat_count', 'door_count']] = carData[['seat_count', 'door_count']].apply(pd.to_numeric)\n",
    "\n",
    "carData = carData[carData['seat_count'] <= 9] #drop values greater than 9\n",
    "carData['seat_count'] = carData['seat_count'].astype(np.int64)\n",
    "carData = carData[carData['door_count'] <= 7] #drop values greater than 7\n",
    "carData['door_count'] = carData['door_count'].astype(np.int64)"
   ]
  },
  {
   "cell_type": "code",
   "execution_count": 12,
   "metadata": {},
   "outputs": [
    {
     "data": {
      "text/plain": [
       "0      8629\n",
       "1       198\n",
       "2      5095\n",
       "3      5251\n",
       "4     15148\n",
       "5    170986\n",
       "6      1893\n",
       "7     12023\n",
       "8       991\n",
       "9      2018\n",
       "Name: seat_count, dtype: int64"
      ]
     },
     "execution_count": 12,
     "metadata": {},
     "output_type": "execute_result"
    }
   ],
   "source": [
    "carData['seat_count'].value_counts().sort_index()"
   ]
  },
  {
   "cell_type": "code",
   "execution_count": 13,
   "metadata": {},
   "outputs": [
    {
     "data": {
      "text/plain": [
       "Text(0.5, 1.0, 'Car Seat Counts')"
      ]
     },
     "execution_count": 13,
     "metadata": {},
     "output_type": "execute_result"
    },
    {
     "data": {
      "image/png": "[encoded data removed]",
      "text/plain": [
       "<Figure size 432x288 with 1 Axes>"
      ]
     },
     "metadata": {
      "needs_background": "light"
     },
     "output_type": "display_data"
    }
   ],
   "source": [
    "carData['seat_count'].value_counts().sort_index().plot('bar')\n",
    "plt.title(\"Car Seat Counts\")"
   ]
  },
  {
   "cell_type": "code",
   "execution_count": 14,
   "metadata": {},
   "outputs": [
    {
     "data": {
      "text/plain": [
       "0      7653\n",
       "1        85\n",
       "2     10010\n",
       "3     12587\n",
       "4     23968\n",
       "5    167650\n",
       "6       264\n",
       "7        15\n",
       "Name: door_count, dtype: int64"
      ]
     },
     "execution_count": 14,
     "metadata": {},
     "output_type": "execute_result"
    }
   ],
   "source": [
    "carData['door_count'].value_counts().sort_index()"
   ]
  },
  {
   "cell_type": "code",
   "execution_count": 15,
   "metadata": {},
   "outputs": [
    {
     "data": {
      "text/plain": [
       "Text(0.5, 1.0, 'Car Door Counts')"
      ]
     },
     "execution_count": 15,
     "metadata": {},
     "output_type": "execute_result"
    },
    {
     "data": {
      "image/png": "[encoded data removed]",
      "text/plain": [
       "<Figure size 432x288 with 1 Axes>"
      ]
     },
     "metadata": {
      "needs_background": "light"
     },
     "output_type": "display_data"
    }
   ],
   "source": [
    "carData['door_count'].value_counts().sort_index().plot('bar')\n",
    "plt.title(\"Car Door Counts\")"
   ]
  },
  {
   "cell_type": "code",
   "execution_count": 16,
   "metadata": {},
   "outputs": [],
   "source": [
    "carData['maker'] = carData['maker'].fillna(carData['maker'].mode()[0])\n",
    "carData['transmission'] = carData['transmission'].fillna(carData['transmission'].mode()[0])\n",
    "\n",
    "carData['manufacture_year'] = carData['manufacture_year'].fillna(carData['manufacture_year'].mode()[0])\n",
    "carData['manufacture_year'] = carData['manufacture_year'].astype(np.int64)\n",
    "\n",
    "carData = carData[carData['mileage'] != 0] # remove cars without any mileage\n",
    "carData['mileage'] = carData['mileage'].fillna(carData['mileage'].mean())\n",
    "carData['mileage (log)'] = np.log(carData['mileage'])\n",
    "carData = carData.drop(columns=['mileage'])\n",
    "\n",
    "carData['engine_displacement'] = carData['engine_displacement'].fillna(carData['engine_displacement'].mean())\n",
    "carData['engine_power'] = carData['engine_power'].fillna(carData['engine_power'].mean())\n",
    "carData['engine_displacement (log)'] = np.log(carData['engine_displacement'])\n",
    "carData = carData.drop(columns=['engine_displacement'])"
   ]
  },
  {
   "cell_type": "code",
   "execution_count": 17,
   "metadata": {},
   "outputs": [
    {
     "data": {
      "text/plain": [
       "Text(0.5, 1.0, 'Automatic and Manual Car Counts')"
      ]
     },
     "execution_count": 17,
     "metadata": {},
     "output_type": "execute_result"
    },
    {
     "data": {
      "image/png": "[encoded data removed]",
      "text/plain": [
       "<Figure size 432x288 with 1 Axes>"
      ]
     },
     "metadata": {
      "needs_background": "light"
     },
     "output_type": "display_data"
    }
   ],
   "source": [
    "carData['transmission'].value_counts().sort_index().plot('bar')\n",
    "plt.title(\"Automatic and Manual Car Counts\")"
   ]
  },
  {
   "cell_type": "code",
   "execution_count": 18,
   "metadata": {},
   "outputs": [],
   "source": [
    "carData[['date_created','date_last_seen']] = carData[['date_created','date_last_seen']].apply(pd.to_datetime)\n",
    "carData['ad_day_count'] = (carData['date_last_seen'] - carData['date_created']).dt.days\n",
    "carData = carData.drop(columns =['date_created','date_last_seen'])"
   ]
  },
  {
   "cell_type": "code",
   "execution_count": 19,
   "metadata": {},
   "outputs": [
    {
     "data": {
      "text/plain": [
       "maker                        0\n",
       "manufacture_year             0\n",
       "engine_power                 0\n",
       "body_type                    0\n",
       "transmission                 0\n",
       "door_count                   0\n",
       "seat_count                   0\n",
       "fuel_type                    0\n",
       "price_eur                    0\n",
       "mileage (log)                0\n",
       "engine_displacement (log)    0\n",
       "ad_day_count                 0\n",
       "dtype: int64"
      ]
     },
     "execution_count": 19,
     "metadata": {},
     "output_type": "execute_result"
    }
   ],
   "source": [
    "carData.isnull().sum()"
   ]
  },
  {
   "cell_type": "code",
   "execution_count": 20,
   "metadata": {},
   "outputs": [
    {
     "data": {
      "text/html": [
       "<div>\n",
       "<style scoped>\n",
       "    .dataframe tbody tr th:only-of-type {\n",
       "        vertical-align: middle;\n",
       "    }\n",
       "\n",
       "    .dataframe tbody tr th {\n",
       "        vertical-align: top;\n",
       "    }\n",
       "\n",
       "    .dataframe thead th {\n",
       "        text-align: right;\n",
       "    }\n",
       "</style>\n",
       "<table border=\"1\" class=\"dataframe\">\n",
       "  <thead>\n",
       "    <tr style=\"text-align: right;\">\n",
       "      <th></th>\n",
       "      <th>maker</th>\n",
       "      <th>manufacture_year</th>\n",
       "      <th>engine_power</th>\n",
       "      <th>body_type</th>\n",
       "      <th>transmission</th>\n",
       "      <th>door_count</th>\n",
       "      <th>seat_count</th>\n",
       "      <th>fuel_type</th>\n",
       "      <th>price_eur</th>\n",
       "      <th>mileage (log)</th>\n",
       "      <th>engine_displacement (log)</th>\n",
       "      <th>ad_day_count</th>\n",
       "    </tr>\n",
       "  </thead>\n",
       "  <tbody>\n",
       "    <tr>\n",
       "      <th>507</th>\n",
       "      <td>mercedes-benz</td>\n",
       "      <td>2011</td>\n",
       "      <td>120.0</td>\n",
       "      <td>van</td>\n",
       "      <td>man</td>\n",
       "      <td>5</td>\n",
       "      <td>5</td>\n",
       "      <td>diesel</td>\n",
       "      <td>22168.76</td>\n",
       "      <td>12.223878</td>\n",
       "      <td>7.669962</td>\n",
       "      <td>74</td>\n",
       "    </tr>\n",
       "    <tr>\n",
       "      <th>577</th>\n",
       "      <td>skoda</td>\n",
       "      <td>2007</td>\n",
       "      <td>96.0</td>\n",
       "      <td>van</td>\n",
       "      <td>man</td>\n",
       "      <td>5</td>\n",
       "      <td>9</td>\n",
       "      <td>diesel</td>\n",
       "      <td>8475.20</td>\n",
       "      <td>12.409013</td>\n",
       "      <td>7.808323</td>\n",
       "      <td>74</td>\n",
       "    </tr>\n",
       "    <tr>\n",
       "      <th>583</th>\n",
       "      <td>skoda</td>\n",
       "      <td>2005</td>\n",
       "      <td>128.0</td>\n",
       "      <td>van</td>\n",
       "      <td>man</td>\n",
       "      <td>5</td>\n",
       "      <td>8</td>\n",
       "      <td>diesel</td>\n",
       "      <td>9215.40</td>\n",
       "      <td>12.421184</td>\n",
       "      <td>7.808323</td>\n",
       "      <td>74</td>\n",
       "    </tr>\n",
       "    <tr>\n",
       "      <th>898</th>\n",
       "      <td>ford</td>\n",
       "      <td>2011</td>\n",
       "      <td>103.0</td>\n",
       "      <td>van</td>\n",
       "      <td>man</td>\n",
       "      <td>5</td>\n",
       "      <td>5</td>\n",
       "      <td>diesel</td>\n",
       "      <td>9437.45</td>\n",
       "      <td>11.830040</td>\n",
       "      <td>7.600902</td>\n",
       "      <td>74</td>\n",
       "    </tr>\n",
       "    <tr>\n",
       "      <th>972</th>\n",
       "      <td>skoda</td>\n",
       "      <td>2016</td>\n",
       "      <td>79.0</td>\n",
       "      <td>van</td>\n",
       "      <td>man</td>\n",
       "      <td>5</td>\n",
       "      <td>5</td>\n",
       "      <td>diesel</td>\n",
       "      <td>4441.15</td>\n",
       "      <td>12.055250</td>\n",
       "      <td>7.599401</td>\n",
       "      <td>74</td>\n",
       "    </tr>\n",
       "    <tr>\n",
       "      <th>1007</th>\n",
       "      <td>hyundai</td>\n",
       "      <td>2002</td>\n",
       "      <td>90.0</td>\n",
       "      <td>van</td>\n",
       "      <td>man</td>\n",
       "      <td>5</td>\n",
       "      <td>5</td>\n",
       "      <td>gasoline</td>\n",
       "      <td>1073.28</td>\n",
       "      <td>12.111762</td>\n",
       "      <td>7.492760</td>\n",
       "      <td>74</td>\n",
       "    </tr>\n",
       "    <tr>\n",
       "      <th>1038</th>\n",
       "      <td>skoda</td>\n",
       "      <td>2016</td>\n",
       "      <td>55.0</td>\n",
       "      <td>van</td>\n",
       "      <td>man</td>\n",
       "      <td>3</td>\n",
       "      <td>2</td>\n",
       "      <td>diesel</td>\n",
       "      <td>5162.84</td>\n",
       "      <td>11.716307</td>\n",
       "      <td>7.286876</td>\n",
       "      <td>74</td>\n",
       "    </tr>\n",
       "    <tr>\n",
       "      <th>1079</th>\n",
       "      <td>chrysler</td>\n",
       "      <td>2012</td>\n",
       "      <td>214.0</td>\n",
       "      <td>van</td>\n",
       "      <td>auto</td>\n",
       "      <td>5</td>\n",
       "      <td>7</td>\n",
       "      <td>gasoline</td>\n",
       "      <td>18467.80</td>\n",
       "      <td>11.718312</td>\n",
       "      <td>8.189800</td>\n",
       "      <td>74</td>\n",
       "    </tr>\n",
       "    <tr>\n",
       "      <th>1320</th>\n",
       "      <td>skoda</td>\n",
       "      <td>2004</td>\n",
       "      <td>96.0</td>\n",
       "      <td>van</td>\n",
       "      <td>man</td>\n",
       "      <td>4</td>\n",
       "      <td>6</td>\n",
       "      <td>diesel</td>\n",
       "      <td>8845.30</td>\n",
       "      <td>11.957611</td>\n",
       "      <td>7.824046</td>\n",
       "      <td>74</td>\n",
       "    </tr>\n",
       "    <tr>\n",
       "      <th>1603</th>\n",
       "      <td>fiat</td>\n",
       "      <td>2006</td>\n",
       "      <td>77.0</td>\n",
       "      <td>van</td>\n",
       "      <td>man</td>\n",
       "      <td>4</td>\n",
       "      <td>5</td>\n",
       "      <td>diesel</td>\n",
       "      <td>3515.91</td>\n",
       "      <td>11.955192</td>\n",
       "      <td>7.554859</td>\n",
       "      <td>74</td>\n",
       "    </tr>\n",
       "  </tbody>\n",
       "</table>\n",
       "</div>"
      ],
      "text/plain": [
       "              maker  manufacture_year  engine_power body_type transmission  \\\n",
       "507   mercedes-benz              2011         120.0       van          man   \n",
       "577           skoda              2007          96.0       van          man   \n",
       "583           skoda              2005         128.0       van          man   \n",
       "898            ford              2011         103.0       van          man   \n",
       "972           skoda              2016          79.0       van          man   \n",
       "1007        hyundai              2002          90.0       van          man   \n",
       "1038          skoda              2016          55.0       van          man   \n",
       "1079       chrysler              2012         214.0       van         auto   \n",
       "1320          skoda              2004          96.0       van          man   \n",
       "1603           fiat              2006          77.0       van          man   \n",
       "\n",
       "      door_count  seat_count fuel_type  price_eur  mileage (log)  \\\n",
       "507            5           5    diesel   22168.76      12.223878   \n",
       "577            5           9    diesel    8475.20      12.409013   \n",
       "583            5           8    diesel    9215.40      12.421184   \n",
       "898            5           5    diesel    9437.45      11.830040   \n",
       "972            5           5    diesel    4441.15      12.055250   \n",
       "1007           5           5  gasoline    1073.28      12.111762   \n",
       "1038           3           2    diesel    5162.84      11.716307   \n",
       "1079           5           7  gasoline   18467.80      11.718312   \n",
       "1320           4           6    diesel    8845.30      11.957611   \n",
       "1603           4           5    diesel    3515.91      11.955192   \n",
       "\n",
       "      engine_displacement (log)  ad_day_count  \n",
       "507                    7.669962            74  \n",
       "577                    7.808323            74  \n",
       "583                    7.808323            74  \n",
       "898                    7.600902            74  \n",
       "972                    7.599401            74  \n",
       "1007                   7.492760            74  \n",
       "1038                   7.286876            74  \n",
       "1079                   8.189800            74  \n",
       "1320                   7.824046            74  \n",
       "1603                   7.554859            74  "
      ]
     },
     "execution_count": 20,
     "metadata": {},
     "output_type": "execute_result"
    }
   ],
   "source": [
    "carData.head(10)"
   ]
  },
  {
   "cell_type": "code",
   "execution_count": 21,
   "metadata": {},
   "outputs": [],
   "source": [
    "carData = pd.concat([carData,pd.get_dummies(carData.maker)],axis=\"columns\")\n",
    "carData = carData.drop(columns=['maker'])"
   ]
  },
  {
   "cell_type": "code",
   "execution_count": 22,
   "metadata": {},
   "outputs": [],
   "source": [
    "carData = carData.drop(columns=['manufacture_year'])"
   ]
  },
  {
   "cell_type": "code",
   "execution_count": 23,
   "metadata": {},
   "outputs": [],
   "source": [
    "carData = pd.concat([carData,pd.get_dummies(carData.body_type)],axis=\"columns\")\n",
    "carData = carData.drop(columns=['body_type'])"
   ]
  },
  {
   "cell_type": "code",
   "execution_count": 24,
   "metadata": {},
   "outputs": [],
   "source": [
    "carData['transmission'] = carData['transmission'].map( {'man': 1, 'auto': 0} ).astype(int)"
   ]
  },
  {
   "cell_type": "code",
   "execution_count": 25,
   "metadata": {},
   "outputs": [],
   "source": [
    "carData = pd.concat([carData,pd.get_dummies(carData.door_count,prefix='door_count')],axis=\"columns\")\n",
    "carData = carData.drop(columns=['door_count'])"
   ]
  },
  {
   "cell_type": "code",
   "execution_count": 26,
   "metadata": {},
   "outputs": [],
   "source": [
    "carData = pd.concat([carData,pd.get_dummies(carData.seat_count,prefix='seat_count')],axis=\"columns\")\n",
    "carData = carData.drop(columns=['seat_count'])"
   ]
  },
  {
   "cell_type": "code",
   "execution_count": 27,
   "metadata": {},
   "outputs": [],
   "source": [
    "carData = pd.concat([carData,pd.get_dummies(carData.fuel_type)],axis=\"columns\")\n",
    "carData = carData.drop(columns=['fuel_type'])"
   ]
  },
  {
   "cell_type": "code",
   "execution_count": 28,
   "metadata": {},
   "outputs": [
    {
     "data": {
      "text/html": [
       "<div>\n",
       "<style scoped>\n",
       "    .dataframe tbody tr th:only-of-type {\n",
       "        vertical-align: middle;\n",
       "    }\n",
       "\n",
       "    .dataframe tbody tr th {\n",
       "        vertical-align: top;\n",
       "    }\n",
       "\n",
       "    .dataframe thead th {\n",
       "        text-align: right;\n",
       "    }\n",
       "</style>\n",
       "<table border=\"1\" class=\"dataframe\">\n",
       "  <thead>\n",
       "    <tr style=\"text-align: right;\">\n",
       "      <th></th>\n",
       "      <th>engine_power</th>\n",
       "      <th>transmission</th>\n",
       "      <th>price_eur</th>\n",
       "      <th>mileage (log)</th>\n",
       "      <th>engine_displacement (log)</th>\n",
       "      <th>ad_day_count</th>\n",
       "      <th>alfa-romeo</th>\n",
       "      <th>aston-martin</th>\n",
       "      <th>audi</th>\n",
       "      <th>bentley</th>\n",
       "      <th>...</th>\n",
       "      <th>seat_count_5</th>\n",
       "      <th>seat_count_6</th>\n",
       "      <th>seat_count_7</th>\n",
       "      <th>seat_count_8</th>\n",
       "      <th>seat_count_9</th>\n",
       "      <th>cng</th>\n",
       "      <th>diesel</th>\n",
       "      <th>electric</th>\n",
       "      <th>gasoline</th>\n",
       "      <th>lpg</th>\n",
       "    </tr>\n",
       "  </thead>\n",
       "  <tbody>\n",
       "    <tr>\n",
       "      <th>507</th>\n",
       "      <td>120.0</td>\n",
       "      <td>1</td>\n",
       "      <td>22168.76</td>\n",
       "      <td>12.223878</td>\n",
       "      <td>7.669962</td>\n",
       "      <td>74</td>\n",
       "      <td>0</td>\n",
       "      <td>0</td>\n",
       "      <td>0</td>\n",
       "      <td>0</td>\n",
       "      <td>...</td>\n",
       "      <td>1</td>\n",
       "      <td>0</td>\n",
       "      <td>0</td>\n",
       "      <td>0</td>\n",
       "      <td>0</td>\n",
       "      <td>0</td>\n",
       "      <td>1</td>\n",
       "      <td>0</td>\n",
       "      <td>0</td>\n",
       "      <td>0</td>\n",
       "    </tr>\n",
       "    <tr>\n",
       "      <th>577</th>\n",
       "      <td>96.0</td>\n",
       "      <td>1</td>\n",
       "      <td>8475.20</td>\n",
       "      <td>12.409013</td>\n",
       "      <td>7.808323</td>\n",
       "      <td>74</td>\n",
       "      <td>0</td>\n",
       "      <td>0</td>\n",
       "      <td>0</td>\n",
       "      <td>0</td>\n",
       "      <td>...</td>\n",
       "      <td>0</td>\n",
       "      <td>0</td>\n",
       "      <td>0</td>\n",
       "      <td>0</td>\n",
       "      <td>1</td>\n",
       "      <td>0</td>\n",
       "      <td>1</td>\n",
       "      <td>0</td>\n",
       "      <td>0</td>\n",
       "      <td>0</td>\n",
       "    </tr>\n",
       "    <tr>\n",
       "      <th>583</th>\n",
       "      <td>128.0</td>\n",
       "      <td>1</td>\n",
       "      <td>9215.40</td>\n",
       "      <td>12.421184</td>\n",
       "      <td>7.808323</td>\n",
       "      <td>74</td>\n",
       "      <td>0</td>\n",
       "      <td>0</td>\n",
       "      <td>0</td>\n",
       "      <td>0</td>\n",
       "      <td>...</td>\n",
       "      <td>0</td>\n",
       "      <td>0</td>\n",
       "      <td>0</td>\n",
       "      <td>1</td>\n",
       "      <td>0</td>\n",
       "      <td>0</td>\n",
       "      <td>1</td>\n",
       "      <td>0</td>\n",
       "      <td>0</td>\n",
       "      <td>0</td>\n",
       "    </tr>\n",
       "    <tr>\n",
       "      <th>898</th>\n",
       "      <td>103.0</td>\n",
       "      <td>1</td>\n",
       "      <td>9437.45</td>\n",
       "      <td>11.830040</td>\n",
       "      <td>7.600902</td>\n",
       "      <td>74</td>\n",
       "      <td>0</td>\n",
       "      <td>0</td>\n",
       "      <td>0</td>\n",
       "      <td>0</td>\n",
       "      <td>...</td>\n",
       "      <td>1</td>\n",
       "      <td>0</td>\n",
       "      <td>0</td>\n",
       "      <td>0</td>\n",
       "      <td>0</td>\n",
       "      <td>0</td>\n",
       "      <td>1</td>\n",
       "      <td>0</td>\n",
       "      <td>0</td>\n",
       "      <td>0</td>\n",
       "    </tr>\n",
       "    <tr>\n",
       "      <th>972</th>\n",
       "      <td>79.0</td>\n",
       "      <td>1</td>\n",
       "      <td>4441.15</td>\n",
       "      <td>12.055250</td>\n",
       "      <td>7.599401</td>\n",
       "      <td>74</td>\n",
       "      <td>0</td>\n",
       "      <td>0</td>\n",
       "      <td>0</td>\n",
       "      <td>0</td>\n",
       "      <td>...</td>\n",
       "      <td>1</td>\n",
       "      <td>0</td>\n",
       "      <td>0</td>\n",
       "      <td>0</td>\n",
       "      <td>0</td>\n",
       "      <td>0</td>\n",
       "      <td>1</td>\n",
       "      <td>0</td>\n",
       "      <td>0</td>\n",
       "      <td>0</td>\n",
       "    </tr>\n",
       "    <tr>\n",
       "      <th>1007</th>\n",
       "      <td>90.0</td>\n",
       "      <td>1</td>\n",
       "      <td>1073.28</td>\n",
       "      <td>12.111762</td>\n",
       "      <td>7.492760</td>\n",
       "      <td>74</td>\n",
       "      <td>0</td>\n",
       "      <td>0</td>\n",
       "      <td>0</td>\n",
       "      <td>0</td>\n",
       "      <td>...</td>\n",
       "      <td>1</td>\n",
       "      <td>0</td>\n",
       "      <td>0</td>\n",
       "      <td>0</td>\n",
       "      <td>0</td>\n",
       "      <td>0</td>\n",
       "      <td>0</td>\n",
       "      <td>0</td>\n",
       "      <td>1</td>\n",
       "      <td>0</td>\n",
       "    </tr>\n",
       "    <tr>\n",
       "      <th>1038</th>\n",
       "      <td>55.0</td>\n",
       "      <td>1</td>\n",
       "      <td>5162.84</td>\n",
       "      <td>11.716307</td>\n",
       "      <td>7.286876</td>\n",
       "      <td>74</td>\n",
       "      <td>0</td>\n",
       "      <td>0</td>\n",
       "      <td>0</td>\n",
       "      <td>0</td>\n",
       "      <td>...</td>\n",
       "      <td>0</td>\n",
       "      <td>0</td>\n",
       "      <td>0</td>\n",
       "      <td>0</td>\n",
       "      <td>0</td>\n",
       "      <td>0</td>\n",
       "      <td>1</td>\n",
       "      <td>0</td>\n",
       "      <td>0</td>\n",
       "      <td>0</td>\n",
       "    </tr>\n",
       "    <tr>\n",
       "      <th>1079</th>\n",
       "      <td>214.0</td>\n",
       "      <td>0</td>\n",
       "      <td>18467.80</td>\n",
       "      <td>11.718312</td>\n",
       "      <td>8.189800</td>\n",
       "      <td>74</td>\n",
       "      <td>0</td>\n",
       "      <td>0</td>\n",
       "      <td>0</td>\n",
       "      <td>0</td>\n",
       "      <td>...</td>\n",
       "      <td>0</td>\n",
       "      <td>0</td>\n",
       "      <td>1</td>\n",
       "      <td>0</td>\n",
       "      <td>0</td>\n",
       "      <td>0</td>\n",
       "      <td>0</td>\n",
       "      <td>0</td>\n",
       "      <td>1</td>\n",
       "      <td>0</td>\n",
       "    </tr>\n",
       "    <tr>\n",
       "      <th>1320</th>\n",
       "      <td>96.0</td>\n",
       "      <td>1</td>\n",
       "      <td>8845.30</td>\n",
       "      <td>11.957611</td>\n",
       "      <td>7.824046</td>\n",
       "      <td>74</td>\n",
       "      <td>0</td>\n",
       "      <td>0</td>\n",
       "      <td>0</td>\n",
       "      <td>0</td>\n",
       "      <td>...</td>\n",
       "      <td>0</td>\n",
       "      <td>1</td>\n",
       "      <td>0</td>\n",
       "      <td>0</td>\n",
       "      <td>0</td>\n",
       "      <td>0</td>\n",
       "      <td>1</td>\n",
       "      <td>0</td>\n",
       "      <td>0</td>\n",
       "      <td>0</td>\n",
       "    </tr>\n",
       "    <tr>\n",
       "      <th>1603</th>\n",
       "      <td>77.0</td>\n",
       "      <td>1</td>\n",
       "      <td>3515.91</td>\n",
       "      <td>11.955192</td>\n",
       "      <td>7.554859</td>\n",
       "      <td>74</td>\n",
       "      <td>0</td>\n",
       "      <td>0</td>\n",
       "      <td>0</td>\n",
       "      <td>0</td>\n",
       "      <td>...</td>\n",
       "      <td>1</td>\n",
       "      <td>0</td>\n",
       "      <td>0</td>\n",
       "      <td>0</td>\n",
       "      <td>0</td>\n",
       "      <td>0</td>\n",
       "      <td>1</td>\n",
       "      <td>0</td>\n",
       "      <td>0</td>\n",
       "      <td>0</td>\n",
       "    </tr>\n",
       "  </tbody>\n",
       "</table>\n",
       "<p>10 rows × 84 columns</p>\n",
       "</div>"
      ],
      "text/plain": [
       "      engine_power  transmission  price_eur  mileage (log)  \\\n",
       "507          120.0             1   22168.76      12.223878   \n",
       "577           96.0             1    8475.20      12.409013   \n",
       "583          128.0             1    9215.40      12.421184   \n",
       "898          103.0             1    9437.45      11.830040   \n",
       "972           79.0             1    4441.15      12.055250   \n",
       "1007          90.0             1    1073.28      12.111762   \n",
       "1038          55.0             1    5162.84      11.716307   \n",
       "1079         214.0             0   18467.80      11.718312   \n",
       "1320          96.0             1    8845.30      11.957611   \n",
       "1603          77.0             1    3515.91      11.955192   \n",
       "\n",
       "      engine_displacement (log)  ad_day_count  alfa-romeo  aston-martin  audi  \\\n",
       "507                    7.669962            74           0             0     0   \n",
       "577                    7.808323            74           0             0     0   \n",
       "583                    7.808323            74           0             0     0   \n",
       "898                    7.600902            74           0             0     0   \n",
       "972                    7.599401            74           0             0     0   \n",
       "1007                   7.492760            74           0             0     0   \n",
       "1038                   7.286876            74           0             0     0   \n",
       "1079                   8.189800            74           0             0     0   \n",
       "1320                   7.824046            74           0             0     0   \n",
       "1603                   7.554859            74           0             0     0   \n",
       "\n",
       "      bentley  ...  seat_count_5  seat_count_6  seat_count_7  seat_count_8  \\\n",
       "507         0  ...             1             0             0             0   \n",
       "577         0  ...             0             0             0             0   \n",
       "583         0  ...             0             0             0             1   \n",
       "898         0  ...             1             0             0             0   \n",
       "972         0  ...             1             0             0             0   \n",
       "1007        0  ...             1             0             0             0   \n",
       "1038        0  ...             0             0             0             0   \n",
       "1079        0  ...             0             0             1             0   \n",
       "1320        0  ...             0             1             0             0   \n",
       "1603        0  ...             1             0             0             0   \n",
       "\n",
       "      seat_count_9  cng  diesel  electric  gasoline  lpg  \n",
       "507              0    0       1         0         0    0  \n",
       "577              1    0       1         0         0    0  \n",
       "583              0    0       1         0         0    0  \n",
       "898              0    0       1         0         0    0  \n",
       "972              0    0       1         0         0    0  \n",
       "1007             0    0       0         0         1    0  \n",
       "1038             0    0       1         0         0    0  \n",
       "1079             0    0       0         0         1    0  \n",
       "1320             0    0       1         0         0    0  \n",
       "1603             0    0       1         0         0    0  \n",
       "\n",
       "[10 rows x 84 columns]"
      ]
     },
     "execution_count": 28,
     "metadata": {},
     "output_type": "execute_result"
    }
   ],
   "source": [
    "carData.head(10)"
   ]
  },
  {
   "cell_type": "code",
   "execution_count": 29,
   "metadata": {},
   "outputs": [
    {
     "data": {
      "text/plain": [
       "(215738, 84)"
      ]
     },
     "execution_count": 29,
     "metadata": {},
     "output_type": "execute_result"
    }
   ],
   "source": [
    "carData.shape"
   ]
  },
  {
   "cell_type": "code",
   "execution_count": 30,
   "metadata": {},
   "outputs": [],
   "source": [
    "carDataSample = carData.sample(n = 25000, random_state=0)\n",
    "carDataSample = carDataSample.loc[:, (carDataSample != 0).any(axis=0)]"
   ]
  },
  {
   "cell_type": "code",
   "execution_count": 31,
   "metadata": {},
   "outputs": [],
   "source": [
    "#regress sample\n",
    "X = carDataSample.loc[:, carDataSample.columns != 'price_eur']\n",
    "y = np.log(carDataSample['price_eur'])"
   ]
  },
  {
   "cell_type": "markdown",
   "metadata": {},
   "source": [
    "# Regression Algorithms"
   ]
  },
  {
   "cell_type": "code",
   "execution_count": 32,
   "metadata": {},
   "outputs": [],
   "source": [
    "from sklearn.model_selection import train_test_split\n",
    "from sklearn.preprocessing import StandardScaler\n",
    "from sklearn.model_selection import GridSearchCV\n",
    "from sklearn.metrics import r2_score"
   ]
  },
  {
   "cell_type": "code",
   "execution_count": 33,
   "metadata": {},
   "outputs": [],
   "source": [
    "X_train_org, X_test_org, y_train, y_test = train_test_split(X,y,random_state=0)\n",
    "\n",
    "sc = StandardScaler()\n",
    "X_train = sc.fit_transform(X_train_org)\n",
    "X_test = sc.transform(X_test_org)"
   ]
  },
  {
   "cell_type": "markdown",
   "metadata": {},
   "source": [
    "<b>Linear Regression</b>"
   ]
  },
  {
   "cell_type": "code",
   "execution_count": 34,
   "metadata": {},
   "outputs": [
    {
     "name": "stdout",
     "output_type": "stream",
     "text": [
      "lr.coef_: [ 1.75270705e-02 -7.69066591e-02 -7.99034741e-02 -2.03509959e-02\n",
      "  1.23594570e-01 -9.70645140e+09 -1.09433982e+09 -2.72908675e+10\n",
      " -3.45977569e+09 -3.13312007e+10 -1.19002124e+10 -7.57229970e+09\n",
      " -3.04481376e+10 -1.00075651e+10 -6.08814964e+09 -2.46299445e+10\n",
      " -4.21486949e+10 -1.29003162e+10 -2.89488771e+09 -2.64800818e+10\n",
      " -1.09433982e+09 -2.68021672e+09 -6.65021552e+09 -9.13904057e+09\n",
      " -1.84917493e+10 -1.54758895e+09 -5.46819593e+09 -1.11294233e+10\n",
      " -4.89155607e+09 -1.09433982e+09 -1.71538033e+10 -2.91009479e+10\n",
      " -1.06950976e+10 -1.27160568e+10 -1.62089136e+10 -3.19318439e+10\n",
      " -3.14178624e+10 -1.00666880e+10 -3.02134482e+10 -1.09433982e+09\n",
      " -5.01221961e+09 -1.94980746e+10 -6.71221250e+10 -1.02997245e+10\n",
      " -1.07503688e+10 -1.36116841e+10 -1.09433982e+09 -2.05358671e+10\n",
      " -4.63188983e+10 -1.79498243e+10 -7.42166695e+10 -5.38882696e+10\n",
      " -1.74060784e+11 -1.08301227e+11 -8.38132334e+10 -1.05199971e+11\n",
      " -1.74172859e+11 -4.48626785e+10 -1.25454313e+11  3.13728281e+10\n",
      "  4.52602031e+09  3.82913499e+10  4.18805823e+10  5.86640543e+10\n",
      "  7.97255733e+10  7.59397424e+09  2.36414151e+09  1.88548318e+11\n",
      "  3.34220092e+10  1.55681455e+11  1.50984882e+11  2.57101052e+11\n",
      "  4.27887278e+11  9.76140588e+10  2.31361585e+11  6.10955216e+10\n",
      "  9.67668407e+10  3.84944177e+10  4.13716524e+11  1.92626334e+10\n",
      "  4.12608655e+11  6.89647586e+10]\n",
      "lr.intercept_: 7.403536652495249\n",
      "Training set score: 0.5048\n",
      "Test set score: 0.4947\n",
      "R^2:  0.49472122512013017\n"
     ]
    }
   ],
   "source": [
    "from sklearn.linear_model import LinearRegression\n",
    "\n",
    "lr = LinearRegression()\n",
    "lr.fit(X_train, y_train)\n",
    "\n",
    "print(\"lr.coef_:\", lr.coef_)\n",
    "print(\"lr.intercept_:\", lr.intercept_)\n",
    "\n",
    "print(\"Training set score: {:.4f}\".format(lr.score(X_train, y_train)))\n",
    "print(\"Test set score: {:.4f}\".format(lr.score(X_test, y_test)))\n",
    "\n",
    "y_predlr = lr.predict(X_test)\n",
    "print(\"R^2: \", r2_score(y_test, y_predlr))"
   ]
  },
  {
   "cell_type": "markdown",
   "metadata": {},
   "source": [
    "<b>Lasso Regression</b>"
   ]
  },
  {
   "cell_type": "code",
   "execution_count": 35,
   "metadata": {},
   "outputs": [
    {
     "name": "stderr",
     "output_type": "stream",
     "text": [
      "C:\\Users\\adamb\\AppData\\Local\\Continuum\\anaconda3\\lib\\site-packages\\sklearn\\linear_model\\coordinate_descent.py:475: ConvergenceWarning: Objective did not converge. You might want to increase the number of iterations. Duality gap: 42.647805831031064, tolerance: 0.49814769452661495\n",
      "  positive)\n",
      "C:\\Users\\adamb\\AppData\\Local\\Continuum\\anaconda3\\lib\\site-packages\\sklearn\\linear_model\\coordinate_descent.py:475: ConvergenceWarning: Objective did not converge. You might want to increase the number of iterations. Duality gap: 42.12684218289519, tolerance: 0.4918917331247483\n",
      "  positive)\n"
     ]
    },
    {
     "name": "stdout",
     "output_type": "stream",
     "text": [
      "{'mean_fit_time': array([0.4844749 , 0.06781888, 0.03590417, 0.03939402, 0.02842486]), 'std_fit_time': array([0.03368187, 0.0009973 , 0.00299263, 0.00049913, 0.00049841]), 'mean_score_time': array([0.0019958 , 0.00199461, 0.00199568, 0.00199413, 0.00149536]), 'std_score_time': array([4.76837158e-07, 2.38418579e-07, 9.98377800e-04, 9.97543335e-04,\n",
      "       4.98771667e-04]), 'param_alpha': masked_array(data=[0.0001, 0.001, 0.01, 0.1, 1],\n",
      "             mask=[False, False, False, False, False],\n",
      "       fill_value='?',\n",
      "            dtype=object), 'params': [{'alpha': 0.0001}, {'alpha': 0.001}, {'alpha': 0.01}, {'alpha': 0.1}, {'alpha': 1}], 'split0_test_score': array([ 4.91439174e-01,  4.92299615e-01,  4.87489876e-01,  3.35825963e-01,\n",
      "       -1.01362112e-05]), 'split1_test_score': array([ 4.93375979e-01,  4.94400977e-01,  4.94609780e-01,  3.50109979e-01,\n",
      "       -1.00089162e-05]), 'mean_test_score': array([ 4.92407577e-01,  4.93350296e-01,  4.91049828e-01,  3.42967971e-01,\n",
      "       -1.00725637e-05]), 'std_test_score': array([9.68402556e-04, 1.05068126e-03, 3.55995236e-03, 7.14200793e-03,\n",
      "       6.36475356e-08]), 'rank_test_score': array([2, 1, 3, 4, 5]), 'split0_train_score': array([0.51006785, 0.50988973, 0.50121248, 0.35037108, 0.        ]), 'split1_train_score': array([0.50721333, 0.50705735, 0.49868057, 0.33777627, 0.        ]), 'mean_train_score': array([0.50864059, 0.50847354, 0.49994652, 0.34407367, 0.        ]), 'std_train_score': array([0.00142726, 0.00141619, 0.00126595, 0.00629741, 0.        ])}\n",
      "Lasso(alpha=0.001, copy_X=True, fit_intercept=True, max_iter=1000,\n",
      "      normalize=False, positive=False, precompute=False, random_state=None,\n",
      "      selection='cyclic', tol=0.0001, warm_start=False)\n",
      "Train score: 0.5046\n",
      "Test score: 0.4945\n",
      "R^2:  0.49449510076179026\n"
     ]
    }
   ],
   "source": [
    "from sklearn.linear_model import Lasso\n",
    "\n",
    "lasso_params = {'alpha':[0.0001, 0.001, 0.01, 0.1, 1]}\n",
    "lasso_reg = Lasso()\n",
    "\n",
    "lasso = GridSearchCV(lasso_reg,lasso_params,cv=2,return_train_score=True)\n",
    "lasso.fit(X_train,y_train)\n",
    "\n",
    "print(lasso.cv_results_)\n",
    "print(lasso.best_estimator_)\n",
    "print('Train score: {:.4f}'.format(lasso.score(X_train,y_train)))\n",
    "print('Test score: {:.4f}'.format(lasso.score(X_test, y_test)))\n",
    "\n",
    "y_pred_lasso = lasso.predict(X_test)\n",
    "print(\"R^2: \", r2_score(y_test, y_pred_lasso))"
   ]
  },
  {
   "cell_type": "markdown",
   "metadata": {},
   "source": [
    "<b>Ridge Regression</b>"
   ]
  },
  {
   "cell_type": "code",
   "execution_count": 36,
   "metadata": {},
   "outputs": [
    {
     "name": "stdout",
     "output_type": "stream",
     "text": [
      "{'mean_fit_time': array([0.02917564, 0.02742732, 0.02293932, 0.02443564, 0.02443528]), 'std_fit_time': array([1.25157833e-03, 4.48763371e-03, 1.19209290e-07, 1.49571896e-03,\n",
      "       4.98533249e-04]), 'mean_score_time': array([0.00249493, 0.00199401, 0.00199437, 0.0014956 , 0.0009973 ]), 'std_score_time': array([4.99606133e-04, 3.57627869e-07, 2.38418579e-07, 4.97817993e-04,\n",
      "       2.38418579e-07]), 'param_alpha': masked_array(data=[0.0001, 0.001, 0.01, 0.1, 1],\n",
      "             mask=[False, False, False, False, False],\n",
      "       fill_value='?',\n",
      "            dtype=object), 'params': [{'alpha': 0.0001}, {'alpha': 0.001}, {'alpha': 0.01}, {'alpha': 0.1}, {'alpha': 1}], 'split0_test_score': array([0.49131932, 0.49131932, 0.49131935, 0.49131961, 0.49132219]), 'split1_test_score': array([0.49323045, 0.49323045, 0.49323049, 0.49323087, 0.49323465]), 'mean_test_score': array([0.49227488, 0.49227489, 0.49227492, 0.49227524, 0.49227842]), 'std_test_score': array([0.00095557, 0.00095557, 0.00095557, 0.00095563, 0.00095623]), 'rank_test_score': array([5, 4, 3, 2, 1]), 'split0_train_score': array([0.51006973, 0.51006973, 0.51006973, 0.51006973, 0.51006972]), 'split1_train_score': array([0.50721509, 0.50721509, 0.50721509, 0.50721509, 0.50721508]), 'mean_train_score': array([0.50864241, 0.50864241, 0.50864241, 0.50864241, 0.5086424 ]), 'std_train_score': array([0.00142732, 0.00142732, 0.00142732, 0.00142732, 0.00142732])}\n",
      "Ridge(alpha=1, copy_X=True, fit_intercept=True, max_iter=None, normalize=False,\n",
      "      random_state=None, solver='auto', tol=0.001)\n",
      "Train score: 0.5048\n",
      "Test score: 0.4948\n",
      "R^2:  0.4947714169929378\n"
     ]
    }
   ],
   "source": [
    "from  sklearn.linear_model import Ridge\n",
    "\n",
    "ridge_params = {'alpha':[0.0001, 0.001, 0.01, 0.1, 1]}\n",
    "ridge_reg = Ridge()\n",
    "\n",
    "\n",
    "ridge = GridSearchCV(ridge_reg,ridge_params,cv=2,return_train_score=True)\n",
    "ridge.fit(X_train,y_train)\n",
    "\n",
    "print(ridge.cv_results_)\n",
    "print(ridge.best_estimator_)\n",
    "print('Train score: {:.4f}'.format(ridge.score(X_train,y_train)))\n",
    "print('Test score: {:.4f}'.format(ridge.score(X_test, y_test)))\n",
    "\n",
    "y_pred_ridge = ridge.predict(X_test)\n",
    "print(\"R^2: \", r2_score(y_test, y_pred_ridge))"
   ]
  },
  {
   "cell_type": "markdown",
   "metadata": {},
   "source": [
    "<b>Polynomial Regression</b>"
   ]
  },
  {
   "cell_type": "code",
   "execution_count": 37,
   "metadata": {},
   "outputs": [
    {
     "name": "stdout",
     "output_type": "stream",
     "text": [
      "Train score: 0.5048\n",
      "Test score: 0.4948\n"
     ]
    }
   ],
   "source": [
    "from sklearn.preprocessing import PolynomialFeatures\n",
    "\n",
    "poly = PolynomialFeatures(degree=1)\n",
    "X_train_poly = poly.fit_transform(X_train)\n",
    "X_test_poly = poly.transform(X_test)\n",
    "lr.fit(X_train_poly, y_train)\n",
    "\n",
    "print(\"Train score: {:.4f}\".format(lr.score(X_train_poly, y_train)))\n",
    "print(\"Test score: {:.4f}\".format(lr.score(X_test_poly, y_test)))"
   ]
  },
  {
   "cell_type": "markdown",
   "metadata": {},
   "source": [
    "<b>KNN Regressor</b>"
   ]
  },
  {
   "cell_type": "code",
   "execution_count": 38,
   "metadata": {},
   "outputs": [
    {
     "name": "stdout",
     "output_type": "stream",
     "text": [
      "{'mean_fit_time': array([0.05583167, 0.04637539, 0.04637587, 0.04637516, 0.04638779]), 'std_fit_time': array([0.00600219, 0.00049913, 0.00049865, 0.00049913, 0.00048625]), 'mean_score_time': array([1.60735631, 1.49598241, 1.50476301, 1.55376279, 1.57047701]), 'std_score_time': array([0.05850005, 0.02870178, 0.01510227, 0.02334559, 0.01112604]), 'param_n_neighbors': masked_array(data=[41, 43, 45, 47, 49],\n",
      "             mask=[False, False, False, False, False],\n",
      "       fill_value='?',\n",
      "            dtype=object), 'param_p': masked_array(data=[1, 1, 1, 1, 1],\n",
      "             mask=[False, False, False, False, False],\n",
      "       fill_value='?',\n",
      "            dtype=object), 'params': [{'n_neighbors': 41, 'p': 1}, {'n_neighbors': 43, 'p': 1}, {'n_neighbors': 45, 'p': 1}, {'n_neighbors': 47, 'p': 1}, {'n_neighbors': 49, 'p': 1}], 'split0_test_score': array([0.46468999, 0.46186829, 0.45842452, 0.45461722, 0.45140837]), 'split1_test_score': array([0.46637075, 0.46261393, 0.45860461, 0.45515418, 0.45234337]), 'mean_test_score': array([0.46553037, 0.46224111, 0.45851457, 0.4548857 , 0.45187587]), 'std_test_score': array([8.40381425e-04, 3.72816168e-04, 9.00459201e-05, 2.68475585e-04,\n",
      "       4.67498516e-04]), 'rank_test_score': array([1, 2, 3, 4, 5]), 'split0_train_score': array([0.50474729, 0.50019097, 0.4960224 , 0.49176897, 0.48785771]), 'split1_train_score': array([0.48838327, 0.48311796, 0.47965626, 0.47619821, 0.47182427]), 'mean_train_score': array([0.49656528, 0.49165446, 0.48783933, 0.48398359, 0.47984099]), 'std_train_score': array([0.00818201, 0.0085365 , 0.00818307, 0.00778538, 0.00801672])}\n",
      "KNeighborsRegressor(algorithm='auto', leaf_size=30, metric='minkowski',\n",
      "                    metric_params=None, n_jobs=None, n_neighbors=41, p=1,\n",
      "                    weights='uniform')\n",
      "Train score: 0.0440\n",
      "Test score: 0.0432\n",
      "R^2:  0.04317134030321235\n"
     ]
    }
   ],
   "source": [
    "from sklearn.neighbors import KNeighborsRegressor\n",
    "\n",
    "knn_params = {'n_neighbors':[41, 43, 45, 47, 49],\n",
    "              'p': [1]}\n",
    "knn_reg = KNeighborsRegressor()\n",
    "\n",
    "knn = GridSearchCV(knn_reg,knn_params,cv=2,return_train_score=True)\n",
    "knn.fit(X, y)\n",
    "\n",
    "print(knn.cv_results_)\n",
    "print(knn.best_estimator_)\n",
    "print('Train score: {:.4f}'.format(knn.score(X_train,y_train)))\n",
    "print('Test score: {:.4f}'.format(knn.score(X_test,y_test)))\n",
    "\n",
    "y_pred_knn = knn.predict(X_test)\n",
    "print(\"R^2: \", r2_score(y_test, y_pred_knn))"
   ]
  },
  {
   "cell_type": "markdown",
   "metadata": {},
   "source": [
    "<b>Simple SVM</b>"
   ]
  },
  {
   "cell_type": "code",
   "execution_count": 39,
   "metadata": {},
   "outputs": [
    {
     "name": "stderr",
     "output_type": "stream",
     "text": [
      "C:\\Users\\adamb\\AppData\\Local\\Continuum\\anaconda3\\lib\\site-packages\\sklearn\\svm\\base.py:929: ConvergenceWarning: Liblinear failed to converge, increase the number of iterations.\n",
      "  \"the number of iterations.\", ConvergenceWarning)\n",
      "C:\\Users\\adamb\\AppData\\Local\\Continuum\\anaconda3\\lib\\site-packages\\sklearn\\svm\\base.py:929: ConvergenceWarning: Liblinear failed to converge, increase the number of iterations.\n",
      "  \"the number of iterations.\", ConvergenceWarning)\n",
      "C:\\Users\\adamb\\AppData\\Local\\Continuum\\anaconda3\\lib\\site-packages\\sklearn\\svm\\base.py:929: ConvergenceWarning: Liblinear failed to converge, increase the number of iterations.\n",
      "  \"the number of iterations.\", ConvergenceWarning)\n",
      "C:\\Users\\adamb\\AppData\\Local\\Continuum\\anaconda3\\lib\\site-packages\\sklearn\\svm\\base.py:929: ConvergenceWarning: Liblinear failed to converge, increase the number of iterations.\n",
      "  \"the number of iterations.\", ConvergenceWarning)\n",
      "C:\\Users\\adamb\\AppData\\Local\\Continuum\\anaconda3\\lib\\site-packages\\sklearn\\svm\\base.py:929: ConvergenceWarning: Liblinear failed to converge, increase the number of iterations.\n",
      "  \"the number of iterations.\", ConvergenceWarning)\n",
      "C:\\Users\\adamb\\AppData\\Local\\Continuum\\anaconda3\\lib\\site-packages\\sklearn\\svm\\base.py:929: ConvergenceWarning: Liblinear failed to converge, increase the number of iterations.\n",
      "  \"the number of iterations.\", ConvergenceWarning)\n",
      "C:\\Users\\adamb\\AppData\\Local\\Continuum\\anaconda3\\lib\\site-packages\\sklearn\\svm\\base.py:929: ConvergenceWarning: Liblinear failed to converge, increase the number of iterations.\n",
      "  \"the number of iterations.\", ConvergenceWarning)\n",
      "C:\\Users\\adamb\\AppData\\Local\\Continuum\\anaconda3\\lib\\site-packages\\sklearn\\svm\\base.py:929: ConvergenceWarning: Liblinear failed to converge, increase the number of iterations.\n",
      "  \"the number of iterations.\", ConvergenceWarning)\n",
      "C:\\Users\\adamb\\AppData\\Local\\Continuum\\anaconda3\\lib\\site-packages\\sklearn\\svm\\base.py:929: ConvergenceWarning: Liblinear failed to converge, increase the number of iterations.\n",
      "  \"the number of iterations.\", ConvergenceWarning)\n",
      "C:\\Users\\adamb\\AppData\\Local\\Continuum\\anaconda3\\lib\\site-packages\\sklearn\\svm\\base.py:929: ConvergenceWarning: Liblinear failed to converge, increase the number of iterations.\n",
      "  \"the number of iterations.\", ConvergenceWarning)\n",
      "C:\\Users\\adamb\\AppData\\Local\\Continuum\\anaconda3\\lib\\site-packages\\sklearn\\svm\\base.py:929: ConvergenceWarning: Liblinear failed to converge, increase the number of iterations.\n",
      "  \"the number of iterations.\", ConvergenceWarning)\n",
      "C:\\Users\\adamb\\AppData\\Local\\Continuum\\anaconda3\\lib\\site-packages\\sklearn\\svm\\base.py:929: ConvergenceWarning: Liblinear failed to converge, increase the number of iterations.\n",
      "  \"the number of iterations.\", ConvergenceWarning)\n",
      "C:\\Users\\adamb\\AppData\\Local\\Continuum\\anaconda3\\lib\\site-packages\\sklearn\\svm\\base.py:929: ConvergenceWarning: Liblinear failed to converge, increase the number of iterations.\n",
      "  \"the number of iterations.\", ConvergenceWarning)\n",
      "C:\\Users\\adamb\\AppData\\Local\\Continuum\\anaconda3\\lib\\site-packages\\sklearn\\svm\\base.py:929: ConvergenceWarning: Liblinear failed to converge, increase the number of iterations.\n",
      "  \"the number of iterations.\", ConvergenceWarning)\n",
      "C:\\Users\\adamb\\AppData\\Local\\Continuum\\anaconda3\\lib\\site-packages\\sklearn\\svm\\base.py:929: ConvergenceWarning: Liblinear failed to converge, increase the number of iterations.\n",
      "  \"the number of iterations.\", ConvergenceWarning)\n",
      "C:\\Users\\adamb\\AppData\\Local\\Continuum\\anaconda3\\lib\\site-packages\\sklearn\\svm\\base.py:929: ConvergenceWarning: Liblinear failed to converge, increase the number of iterations.\n",
      "  \"the number of iterations.\", ConvergenceWarning)\n",
      "C:\\Users\\adamb\\AppData\\Local\\Continuum\\anaconda3\\lib\\site-packages\\sklearn\\svm\\base.py:929: ConvergenceWarning: Liblinear failed to converge, increase the number of iterations.\n",
      "  \"the number of iterations.\", ConvergenceWarning)\n",
      "C:\\Users\\adamb\\AppData\\Local\\Continuum\\anaconda3\\lib\\site-packages\\sklearn\\svm\\base.py:929: ConvergenceWarning: Liblinear failed to converge, increase the number of iterations.\n",
      "  \"the number of iterations.\", ConvergenceWarning)\n",
      "C:\\Users\\adamb\\AppData\\Local\\Continuum\\anaconda3\\lib\\site-packages\\sklearn\\svm\\base.py:929: ConvergenceWarning: Liblinear failed to converge, increase the number of iterations.\n",
      "  \"the number of iterations.\", ConvergenceWarning)\n",
      "C:\\Users\\adamb\\AppData\\Local\\Continuum\\anaconda3\\lib\\site-packages\\sklearn\\svm\\base.py:929: ConvergenceWarning: Liblinear failed to converge, increase the number of iterations.\n",
      "  \"the number of iterations.\", ConvergenceWarning)\n",
      "C:\\Users\\adamb\\AppData\\Local\\Continuum\\anaconda3\\lib\\site-packages\\sklearn\\svm\\base.py:929: ConvergenceWarning: Liblinear failed to converge, increase the number of iterations.\n",
      "  \"the number of iterations.\", ConvergenceWarning)\n",
      "C:\\Users\\adamb\\AppData\\Local\\Continuum\\anaconda3\\lib\\site-packages\\sklearn\\svm\\base.py:929: ConvergenceWarning: Liblinear failed to converge, increase the number of iterations.\n",
      "  \"the number of iterations.\", ConvergenceWarning)\n",
      "C:\\Users\\adamb\\AppData\\Local\\Continuum\\anaconda3\\lib\\site-packages\\sklearn\\svm\\base.py:929: ConvergenceWarning: Liblinear failed to converge, increase the number of iterations.\n",
      "  \"the number of iterations.\", ConvergenceWarning)\n",
      "C:\\Users\\adamb\\AppData\\Local\\Continuum\\anaconda3\\lib\\site-packages\\sklearn\\svm\\base.py:929: ConvergenceWarning: Liblinear failed to converge, increase the number of iterations.\n",
      "  \"the number of iterations.\", ConvergenceWarning)\n",
      "C:\\Users\\adamb\\AppData\\Local\\Continuum\\anaconda3\\lib\\site-packages\\sklearn\\svm\\base.py:929: ConvergenceWarning: Liblinear failed to converge, increase the number of iterations.\n",
      "  \"the number of iterations.\", ConvergenceWarning)\n",
      "C:\\Users\\adamb\\AppData\\Local\\Continuum\\anaconda3\\lib\\site-packages\\sklearn\\svm\\base.py:929: ConvergenceWarning: Liblinear failed to converge, increase the number of iterations.\n",
      "  \"the number of iterations.\", ConvergenceWarning)\n",
      "C:\\Users\\adamb\\AppData\\Local\\Continuum\\anaconda3\\lib\\site-packages\\sklearn\\svm\\base.py:929: ConvergenceWarning: Liblinear failed to converge, increase the number of iterations.\n",
      "  \"the number of iterations.\", ConvergenceWarning)\n",
      "C:\\Users\\adamb\\AppData\\Local\\Continuum\\anaconda3\\lib\\site-packages\\sklearn\\svm\\base.py:929: ConvergenceWarning: Liblinear failed to converge, increase the number of iterations.\n",
      "  \"the number of iterations.\", ConvergenceWarning)\n",
      "C:\\Users\\adamb\\AppData\\Local\\Continuum\\anaconda3\\lib\\site-packages\\sklearn\\svm\\base.py:929: ConvergenceWarning: Liblinear failed to converge, increase the number of iterations.\n",
      "  \"the number of iterations.\", ConvergenceWarning)\n",
      "C:\\Users\\adamb\\AppData\\Local\\Continuum\\anaconda3\\lib\\site-packages\\sklearn\\svm\\base.py:929: ConvergenceWarning: Liblinear failed to converge, increase the number of iterations.\n",
      "  \"the number of iterations.\", ConvergenceWarning)\n"
     ]
    },
    {
     "name": "stdout",
     "output_type": "stream",
     "text": [
      "{'mean_fit_time': array([0.76583171, 0.76123202, 0.66348422, 0.02642918, 0.01745307,\n",
      "       0.80064297, 0.80664229, 0.83175373, 0.03581667, 0.02044654,\n",
      "       1.11144495, 1.03719151, 0.76867998, 0.02994645, 0.02343774,\n",
      "       0.96011519, 0.87726378, 0.70057905, 0.0274266 , 0.01870346,\n",
      "       0.81037676, 0.80570483, 0.71254623, 0.03593719, 0.02451038]), 'std_fit_time': array([0.00765777, 0.0057472 , 0.00723922, 0.00847745, 0.00049889,\n",
      "       0.00377274, 0.01971579, 0.08674431, 0.00789261, 0.00049829,\n",
      "       0.02472639, 0.15252769, 0.01226628, 0.00900424, 0.00049877,\n",
      "       0.09335732, 0.02801728, 0.00746024, 0.00747979, 0.0007515 ,\n",
      "       0.00248206, 0.00870514, 0.01744068, 0.00293028, 0.00150228]), 'mean_score_time': array([0.00669158, 0.00603461, 0.00598419, 0.00598407, 0.00598431,\n",
      "       0.00682092, 0.00644052, 0.00648189, 0.00598264, 0.00648355,\n",
      "       0.00747907, 0.00698054, 0.00601959, 0.00745285, 0.00847757,\n",
      "       0.00648189, 0.00642192, 0.0065546 , 0.00698197, 0.00598443,\n",
      "       0.00698149, 0.00648212, 0.0064832 , 0.00750363, 0.00752282]), 'std_score_time': array([2.36868858e-04, 5.10215759e-05, 1.19209290e-07, 0.00000000e+00,\n",
      "       0.00000000e+00, 8.38518143e-04, 4.86969948e-04, 4.99486923e-04,\n",
      "       9.53674316e-07, 1.49583817e-03, 5.49674034e-04, 5.96046448e-07,\n",
      "       6.60419464e-05, 1.46830082e-03, 4.98175621e-04, 4.97341156e-04,\n",
      "       4.35948372e-04, 3.85284424e-04, 1.19209290e-07, 1.19209290e-07,\n",
      "       1.19209290e-07, 4.98056412e-04, 4.97698784e-04, 4.97460365e-04,\n",
      "       4.76121902e-04]), 'param_C': masked_array(data=[0.01, 0.01, 0.01, 0.01, 0.01, 0.1, 0.1, 0.1, 0.1, 0.1,\n",
      "                   1, 1, 1, 1, 1, 10, 10, 10, 10, 10, 100, 100, 100, 100,\n",
      "                   100],\n",
      "             mask=[False, False, False, False, False, False, False, False,\n",
      "                   False, False, False, False, False, False, False, False,\n",
      "                   False, False, False, False, False, False, False, False,\n",
      "                   False],\n",
      "       fill_value='?',\n",
      "            dtype=object), 'param_epsilon': masked_array(data=[0.01, 0.1, 1, 10, 100, 0.01, 0.1, 1, 10, 100, 0.01,\n",
      "                   0.1, 1, 10, 100, 0.01, 0.1, 1, 10, 100, 0.01, 0.1, 1,\n",
      "                   10, 100],\n",
      "             mask=[False, False, False, False, False, False, False, False,\n",
      "                   False, False, False, False, False, False, False, False,\n",
      "                   False, False, False, False, False, False, False, False,\n",
      "                   False],\n",
      "       fill_value='?',\n",
      "            dtype=object), 'params': [{'C': 0.01, 'epsilon': 0.01}, {'C': 0.01, 'epsilon': 0.1}, {'C': 0.01, 'epsilon': 1}, {'C': 0.01, 'epsilon': 10}, {'C': 0.01, 'epsilon': 100}, {'C': 0.1, 'epsilon': 0.01}, {'C': 0.1, 'epsilon': 0.1}, {'C': 0.1, 'epsilon': 1}, {'C': 0.1, 'epsilon': 10}, {'C': 0.1, 'epsilon': 100}, {'C': 1, 'epsilon': 0.01}, {'C': 1, 'epsilon': 0.1}, {'C': 1, 'epsilon': 1}, {'C': 1, 'epsilon': 10}, {'C': 1, 'epsilon': 100}, {'C': 10, 'epsilon': 0.01}, {'C': 10, 'epsilon': 0.1}, {'C': 10, 'epsilon': 1}, {'C': 10, 'epsilon': 10}, {'C': 10, 'epsilon': 100}, {'C': 100, 'epsilon': 0.01}, {'C': 100, 'epsilon': 0.1}, {'C': 100, 'epsilon': 1}, {'C': 100, 'epsilon': 10}, {'C': 100, 'epsilon': 100}], 'split0_test_score': array([ 3.23973886e-01,  2.90541150e-01,  1.14585874e-01, -5.39241064e+01,\n",
      "       -1.06951376e+02,  3.45967689e-01,  4.06110049e-01,  2.71160237e-01,\n",
      "       -5.39254188e+01, -1.06951376e+02,  4.59528299e-01,  3.35232235e-01,\n",
      "       -2.75991558e-01, -5.39256204e+01, -1.06951376e+02,  3.87285895e-01,\n",
      "        3.83258475e-01, -8.28048287e-02, -5.39253278e+01, -1.06951376e+02,\n",
      "       -1.03677742e+00,  3.40436757e-01,  1.13361852e-01, -5.39248987e+01,\n",
      "       -1.06951376e+02]), 'split1_test_score': array([ 2.32394562e-01,  2.62851640e-01, -2.23067889e-02, -7.23737954e+01,\n",
      "       -1.00402022e+02,  4.79179483e-02,  3.01251587e-01,  1.21195312e-01,\n",
      "       -7.23747170e+01, -1.00402022e+02,  4.39625670e-01,  4.02964362e-01,\n",
      "        1.40316678e-01, -7.23752922e+01, -1.00402022e+02,  4.31101501e-01,\n",
      "        2.56105004e-01, -2.36082135e-01, -7.23751949e+01, -1.00402022e+02,\n",
      "       -4.06689792e-02,  4.62794638e-01,  2.20571204e-02, -7.23750686e+01,\n",
      "       -1.00402022e+02]), 'mean_test_score': array([ 2.78184224e-01,  2.76696395e-01,  4.61395426e-02, -6.31489509e+01,\n",
      "       -1.03676699e+02,  1.96942819e-01,  3.53680818e-01,  1.96177774e-01,\n",
      "       -6.31500679e+01, -1.03676699e+02,  4.49576985e-01,  3.69098298e-01,\n",
      "       -6.78374396e-02, -6.31504563e+01, -1.03676699e+02,  4.09193698e-01,\n",
      "        3.19681739e-01, -1.59443482e-01, -6.31502613e+01, -1.03676699e+02,\n",
      "       -5.38723202e-01,  4.01615698e-01,  6.77094863e-02, -6.31499837e+01,\n",
      "       -1.03676699e+02]), 'std_test_score': array([0.04578966, 0.01384475, 0.06844633, 9.22484448, 3.27467693,\n",
      "       0.14902487, 0.05242923, 0.07498246, 9.22464912, 3.27467693,\n",
      "       0.00995131, 0.03386606, 0.20815412, 9.22483587, 3.27467693,\n",
      "       0.0219078 , 0.06357674, 0.07663865, 9.22493354, 3.27467693,\n",
      "       0.49805422, 0.06117894, 0.04565237, 9.22508497, 3.27467693]), 'rank_test_score': array([ 7,  8, 12, 16, 21,  9,  5, 10, 18, 21,  1,  4, 13, 20, 21,  2,  6,\n",
      "       14, 19, 21, 15,  3, 11, 17, 21]), 'split0_train_score': array([ 3.39818294e-01,  2.96472979e-01,  1.33028917e-01, -5.04493611e+01,\n",
      "       -1.00402022e+02,  3.81744236e-01,  4.37503388e-01,  2.90709851e-01,\n",
      "       -5.04505898e+01, -1.00402022e+02,  4.88409483e-01,  3.77626961e-01,\n",
      "       -1.97228801e-01, -5.04507788e+01, -1.00402022e+02,  4.00267634e-01,\n",
      "        4.02055646e-01, -1.34352194e-02, -5.04505046e+01, -1.00402022e+02,\n",
      "       -9.98581561e-01,  3.68203282e-01,  1.49408646e-01, -5.04501025e+01,\n",
      "       -1.00402022e+02]), 'split1_train_score': array([ 2.39361385e-01,  2.72097042e-01, -5.81464545e-02, -7.72706927e+01,\n",
      "       -1.06951376e+02, -9.70953585e-03,  2.87442908e-01,  8.44805580e-02,\n",
      "       -7.72716730e+01, -1.06951376e+02,  4.28356764e-01,  3.89411405e-01,\n",
      "        9.78483293e-02, -7.72722870e+01, -1.06951376e+02,  4.15001947e-01,\n",
      "        2.52481194e-01, -3.23495448e-01, -7.72721834e+01, -1.06951376e+02,\n",
      "       -5.08318132e-02,  4.40386020e-01, -3.56042590e-02, -7.72720489e+01,\n",
      "       -1.06951376e+02]), 'mean_train_score': array([ 2.89589839e-01,  2.84285010e-01,  3.74412311e-02, -6.38600269e+01,\n",
      "       -1.03676699e+02,  1.86017350e-01,  3.62473148e-01,  1.87595205e-01,\n",
      "       -6.38611314e+01, -1.03676699e+02,  4.58383124e-01,  3.83519183e-01,\n",
      "       -4.96902361e-02, -6.38615329e+01, -1.03676699e+02,  4.07634791e-01,\n",
      "        3.27268420e-01, -1.68465334e-01, -6.38613440e+01, -1.03676699e+02,\n",
      "       -5.24706687e-01,  4.04294651e-01,  5.69021934e-02, -6.38610757e+01,\n",
      "       -1.03676699e+02]), 'std_train_score': array([5.02284542e-02, 1.21879682e-02, 9.55876856e-02, 1.34106658e+01,\n",
      "       3.27467693e+00, 1.95726886e-01, 7.50302398e-02, 1.03114647e-01,\n",
      "       1.34105416e+01, 3.27467693e+00, 3.00263595e-02, 5.89222171e-03,\n",
      "       1.47538565e-01, 1.34107541e+01, 3.27467693e+00, 7.36715646e-03,\n",
      "       7.47872259e-02, 1.55030114e-01, 1.34108394e+01, 3.27467693e+00,\n",
      "       4.73874874e-01, 3.60913689e-02, 9.25064524e-02, 1.34109732e+01,\n",
      "       3.27467693e+00])}\n",
      "LinearSVR(C=1, dual=True, epsilon=0.01, fit_intercept=True,\n",
      "          intercept_scaling=1.0, loss='epsilon_insensitive', max_iter=1000,\n",
      "          random_state=None, tol=0.0001, verbose=0)\n",
      "Train score: -34.8298\n",
      "Test score: -32.5226\n",
      "R^2:  -32.52259008885973\n"
     ]
    },
    {
     "name": "stderr",
     "output_type": "stream",
     "text": [
      "C:\\Users\\adamb\\AppData\\Local\\Continuum\\anaconda3\\lib\\site-packages\\sklearn\\svm\\base.py:929: ConvergenceWarning: Liblinear failed to converge, increase the number of iterations.\n",
      "  \"the number of iterations.\", ConvergenceWarning)\n"
     ]
    }
   ],
   "source": [
    "from sklearn.svm import SVR, LinearSVR\n",
    "\n",
    "svm_simple_params = {'C':[0.01,0.1,1,10,100],\n",
    "                     'epsilon':[0.01,0.1,1,10,100]\n",
    "                    }\n",
    "\n",
    "svm_simple_reg = LinearSVR()\n",
    "svm_simple = GridSearchCV(estimator=svm_simple_reg,param_grid=svm_simple_params,cv=2,return_train_score=True)\n",
    "\n",
    "svm_simple.fit(X, y)\n",
    "\n",
    "print(svm_simple.cv_results_)\n",
    "print(svm_simple.best_estimator_)\n",
    "print('Train score: {:.4f}'.format(svm_simple.score(X_train,y_train)))\n",
    "print('Test score: {:.4f}'.format(svm_simple.score(X_test,y_test)))\n",
    "\n",
    "y_pred_svm_simple = svm_simple.predict(X_test)\n",
    "print(\"R^2: \", r2_score(y_test, y_pred_svm_simple))"
   ]
  },
  {
   "cell_type": "markdown",
   "metadata": {},
   "source": [
    "<b>SVM with kernels</b>"
   ]
  },
  {
   "cell_type": "code",
   "execution_count": 40,
   "metadata": {},
   "outputs": [
    {
     "name": "stdout",
     "output_type": "stream",
     "text": [
      "{'mean_fit_time': array([  5.20537913,  12.98579061,  78.5156287 ,  10.18598843,\n",
      "        34.3543942 , 102.05848157,  42.73902678,  40.28785539,\n",
      "        97.84189069]), 'std_fit_time': array([0.02559865, 0.20185959, 1.0543021 , 0.62326336, 0.10673261,\n",
      "       9.79068315, 1.35987496, 5.52351832, 6.26210058]), 'mean_score_time': array([ 3.34664834,  6.46870792, 15.06514335,  4.05154514,  7.55643272,\n",
      "       15.78536093,  5.11320508,  7.09081078, 15.99546146]), 'std_score_time': array([0.12756217, 0.02061307, 0.68904543, 0.00678253, 0.1431179 ,\n",
      "       0.25896895, 0.30624282, 0.13255644, 0.03635192]), 'param_C': masked_array(data=[1, 1, 1, 10, 10, 10, 100, 100, 100],\n",
      "             mask=[False, False, False, False, False, False, False, False,\n",
      "                   False],\n",
      "       fill_value='?',\n",
      "            dtype=object), 'param_gamma': masked_array(data=[0.01, 0.1, 1, 0.01, 0.1, 1, 0.01, 0.1, 1],\n",
      "             mask=[False, False, False, False, False, False, False, False,\n",
      "                   False],\n",
      "       fill_value='?',\n",
      "            dtype=object), 'param_kernel': masked_array(data=['rbf', 'rbf', 'rbf', 'rbf', 'rbf', 'rbf', 'rbf', 'rbf',\n",
      "                   'rbf'],\n",
      "             mask=[False, False, False, False, False, False, False, False,\n",
      "                   False],\n",
      "       fill_value='?',\n",
      "            dtype=object), 'params': [{'C': 1, 'gamma': 0.01, 'kernel': 'rbf'}, {'C': 1, 'gamma': 0.1, 'kernel': 'rbf'}, {'C': 1, 'gamma': 1, 'kernel': 'rbf'}, {'C': 10, 'gamma': 0.01, 'kernel': 'rbf'}, {'C': 10, 'gamma': 0.1, 'kernel': 'rbf'}, {'C': 10, 'gamma': 1, 'kernel': 'rbf'}, {'C': 100, 'gamma': 0.01, 'kernel': 'rbf'}, {'C': 100, 'gamma': 0.1, 'kernel': 'rbf'}, {'C': 100, 'gamma': 1, 'kernel': 'rbf'}], 'split0_test_score': array([0.49124691, 0.49132755, 0.0855767 , 0.64840372, 0.5673025 ,\n",
      "       0.11194208, 0.64252878, 0.55710811, 0.11194208]), 'split1_test_score': array([0.47521042, 0.47299249, 0.08006977, 0.62716911, 0.56018757,\n",
      "       0.11739976, 0.63042171, 0.55665804, 0.11739976]), 'mean_test_score': array([0.48322867, 0.48216002, 0.08282323, 0.63778641, 0.56374503,\n",
      "       0.11467092, 0.63647525, 0.55688308, 0.11467092]), 'std_test_score': array([0.00801824, 0.00916753, 0.00275347, 0.01061731, 0.00355746,\n",
      "       0.00272884, 0.00605354, 0.00022503, 0.00272884]), 'rank_test_score': array([5, 6, 9, 1, 3, 7, 2, 4, 7]), 'split0_train_score': array([0.55496747, 0.78837817, 0.70820638, 0.81777151, 0.98425987,\n",
      "       0.98277962, 0.94105766, 0.98738871, 0.98277962]), 'split1_train_score': array([0.5462085 , 0.78353314, 0.70808372, 0.80570696, 0.98592148,\n",
      "       0.98150142, 0.93650494, 0.98701159, 0.98150142]), 'mean_train_score': array([0.55058798, 0.78595566, 0.70814505, 0.81173924, 0.98509067,\n",
      "       0.98214052, 0.9387813 , 0.98720015, 0.98214052]), 'std_train_score': array([4.37948135e-03, 2.42251748e-03, 6.13305250e-05, 6.03227558e-03,\n",
      "       8.30805970e-04, 6.39097241e-04, 2.27635882e-03, 1.88558698e-04,\n",
      "       6.39097241e-04])}\n",
      "SVR(C=10, cache_size=200, coef0=0.0, degree=3, epsilon=0.1, gamma=0.01,\n",
      "    kernel='rbf', max_iter=-1, shrinking=True, tol=0.001, verbose=False)\n",
      "Train score: -0.5594\n",
      "Test score: -0.5400\n",
      "R^2:  -0.5400107979019384\n"
     ]
    }
   ],
   "source": [
    "svm_rbf_params = {'C':[1,10,100],\n",
    "                  'gamma':[.01,.1,1],\n",
    "                  'kernel':['rbf']\n",
    "                 }\n",
    "\n",
    "svm_rbf_reg = SVR()\n",
    "svm_rbf = GridSearchCV(svm_rbf_reg,svm_rbf_params,cv=2,return_train_score=True)\n",
    "\n",
    "svm_rbf.fit(X, y)\n",
    "\n",
    "print(svm_rbf.cv_results_)\n",
    "print(svm_rbf.best_estimator_)\n",
    "print('Train score: {:.4f}'.format(svm_rbf.score(X_train,y_train)))\n",
    "print('Test score: {:.4f}'.format(svm_rbf.score(X_test,y_test)))\n",
    "\n",
    "y_pred_svm_rbf = svm_rbf.predict(X_test)\n",
    "print(\"R^2: \", r2_score(y_test, y_pred_svm_rbf))"
   ]
  },
  {
   "cell_type": "code",
   "execution_count": 43,
   "metadata": {},
   "outputs": [
    {
     "data": {
      "text/plain": [
       "'\\nsvm_poly_params = {\\'C\\':[1,10,100],\\n                  \\'gamma\\':[.01,.1,1],\\n                  \\'kernel\\':[\\'poly\\']\\n                 }\\n\\nsvm_poly_reg = SVR()\\nsvm_poly = GridSearchCV(svm_poly_reg,svm_poly_params,cv=2,return_train_score=True,n_jobs=-1)\\n\\nsvm_poly.fit(X, y)\\n\\nprint(svm_poly.cv_results_)\\nprint(svm_poly.best_estimator_)\\nprint(\\'Train score: {:.4f}\\'.format(svm_poly.score(X_train,y_train)))\\nprint(\\'Test score: {:.4f}\\'.format(svm_poly.score(X_test,y_test)))\\n\\ny_pred_svm_poly = svm_poly.predict(X_test)\\nprint(\"R^2: \", r2_score(y_test, y_pred_svm_poly))\\n'"
      ]
     },
     "execution_count": 43,
     "metadata": {},
     "output_type": "execute_result"
    }
   ],
   "source": [
    "'''\n",
    "svm_poly_params = {'C':[1,10,100],\n",
    "                  'gamma':[.01,.1,1],\n",
    "                  'kernel':['poly']\n",
    "                 }\n",
    "\n",
    "svm_poly_reg = SVR()\n",
    "svm_poly = GridSearchCV(svm_poly_reg,svm_poly_params,cv=2,return_train_score=True,n_jobs=-1)\n",
    "\n",
    "svm_poly.fit(X, y)\n",
    "\n",
    "print(svm_poly.cv_results_)\n",
    "print(svm_poly.best_estimator_)\n",
    "print('Train score: {:.4f}'.format(svm_poly.score(X_train,y_train)))\n",
    "print('Test score: {:.4f}'.format(svm_poly.score(X_test,y_test)))\n",
    "\n",
    "y_pred_svm_poly = svm_poly.predict(X_test)\n",
    "print(\"R^2: \", r2_score(y_test, y_pred_svm_poly))\n",
    "'''"
   ]
  },
  {
   "cell_type": "code",
   "execution_count": 44,
   "metadata": {},
   "outputs": [
    {
     "data": {
      "text/plain": [
       "'\\nsvm_linear_params = {\\'C\\':[1,10,100],\\n                     \\'gamma\\':[.01,.1,1],\\n                     \\'kernel\\':[\\'linear\\']\\n                    }\\n\\nsvm_linear_reg = SVR()\\nsvm_linear = GridSearchCV(svm_linear_reg,svm_linear_params,cv=2,return_train_score=True,n_jobs=-1)\\n\\nsvm_linear.fit(X, y)\\n\\nprint(svm_linear.cv_results_)\\nprint(svm_linear.best_estimator_)\\nprint(\\'Train score: {:.4f}\\'.format(svm_linear.score(X_train,y_train)))\\nprint(\\'Test score: {:.4f}\\'.format(svm_linear.score(X_test,y_test)))\\n\\ny_pred_svm_linear = svm_linear.predict(X_test)\\nprint(\"R^2: \", r2_score(y_test, y_pred_svm_linear))\\n'"
      ]
     },
     "execution_count": 44,
     "metadata": {},
     "output_type": "execute_result"
    }
   ],
   "source": [
    "'''\n",
    "svm_linear_params = {'C':[1,10,100],\n",
    "                     'gamma':[.01,.1,1],\n",
    "                     'kernel':['linear']\n",
    "                    }\n",
    "\n",
    "svm_linear_reg = SVR()\n",
    "svm_linear = GridSearchCV(svm_linear_reg,svm_linear_params,cv=2,return_train_score=True,n_jobs=-1)\n",
    "\n",
    "svm_linear.fit(X, y)\n",
    "\n",
    "print(svm_linear.cv_results_)\n",
    "print(svm_linear.best_estimator_)\n",
    "print('Train score: {:.4f}'.format(svm_linear.score(X_train,y_train)))\n",
    "print('Test score: {:.4f}'.format(svm_linear.score(X_test,y_test)))\n",
    "\n",
    "y_pred_svm_linear = svm_linear.predict(X_test)\n",
    "print(\"R^2: \", r2_score(y_test, y_pred_svm_linear))\n",
    "'''"
   ]
  },
  {
   "cell_type": "markdown",
   "metadata": {},
   "source": [
    "# Conclusion\n",
    "\n",
    "<b>The ridge regression model works the best for the regressing data. It had a training score of 0.5048, and a test set score of 0.4948. The R^2 value was 0.4947714169929378.</b>"
   ]
  },
  {
   "cell_type": "code",
   "execution_count": null,
   "metadata": {},
   "outputs": [],
   "source": []
  }
 ],
 "metadata": {
  "kernelspec": {
   "display_name": "Python 3",
   "language": "python",
   "name": "python3"
  },
  "language_info": {
   "codemirror_mode": {
    "name": "ipython",
    "version": 3
   },
   "file_extension": ".py",
   "mimetype": "text/x-python",
   "name": "python",
   "nbconvert_exporter": "python",
   "pygments_lexer": "ipython3",
   "version": "3.7.1"
  }
 },
 "nbformat": 4,
 "nbformat_minor": 4
}
